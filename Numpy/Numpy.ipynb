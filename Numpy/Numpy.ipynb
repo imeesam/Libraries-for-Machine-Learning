{
 "cells": [
  {
   "cell_type": "code",
   "execution_count": 1,
   "id": "186c0daf-894b-493a-9759-66896081aefd",
   "metadata": {},
   "outputs": [],
   "source": [
    "## numpy"
   ]
  },
  {
   "cell_type": "code",
   "execution_count": 2,
   "id": "2b1de14c-eda3-437e-8109-1472f5885112",
   "metadata": {},
   "outputs": [],
   "source": [
    "# importing library with alias\n",
    "import numpy as np"
   ]
  },
  {
   "cell_type": "code",
   "execution_count": 3,
   "id": "7b472782-84a7-4610-8f20-09093cb44ed5",
   "metadata": {},
   "outputs": [
    {
     "data": {
      "text/plain": [
       "array(40)"
      ]
     },
     "execution_count": 3,
     "metadata": {},
     "output_type": "execute_result"
    }
   ],
   "source": [
    "## 1 d array\n",
    "n = np.array(40)\n",
    "n"
   ]
  },
  {
   "cell_type": "code",
   "execution_count": 4,
   "id": "dfd22567-8073-4545-9dde-d569145dbb5d",
   "metadata": {},
   "outputs": [
    {
     "data": {
      "text/plain": [
       "array([1, 2, 3, 4, 5])"
      ]
     },
     "execution_count": 4,
     "metadata": {},
     "output_type": "execute_result"
    }
   ],
   "source": [
    "#.array() method is used to create an array just you have to pass in the list\n",
    "\n",
    "# for creating single dimensional array\n",
    "n1 = np.array([1 ,2,3,4,5])\n",
    "n1"
   ]
  },
  {
   "cell_type": "code",
   "execution_count": 5,
   "id": "8b562309-41f4-4997-b488-7daf2be8a883",
   "metadata": {},
   "outputs": [
    {
     "data": {
      "text/plain": [
       "numpy.ndarray"
      ]
     },
     "execution_count": 5,
     "metadata": {},
     "output_type": "execute_result"
    }
   ],
   "source": [
    "type(n1)"
   ]
  },
  {
   "cell_type": "code",
   "execution_count": 6,
   "id": "4ff02be8-6ab2-49bd-b1e2-2d512f856e13",
   "metadata": {},
   "outputs": [
    {
     "data": {
      "text/plain": [
       "array([[ 1,  2,  3,  4,  5],\n",
       "       [ 6,  7,  8,  9, 10]])"
      ]
     },
     "execution_count": 6,
     "metadata": {},
     "output_type": "execute_result"
    }
   ],
   "source": [
    "# for creating multi dimensianal array you have to pass method then in it you have to pass a list and inside that you have to pass multi dimensinal array\n",
    "n2 = np.array([[1,2,3,4,5]\n",
    "              ,[6,7,8,9,10]])\n",
    "n2"
   ]
  },
  {
   "cell_type": "code",
   "execution_count": 7,
   "id": "c7e333be-a88d-4256-8078-bc2689b1101f",
   "metadata": {},
   "outputs": [
    {
     "data": {
      "text/plain": [
       "numpy.ndarray"
      ]
     },
     "execution_count": 7,
     "metadata": {},
     "output_type": "execute_result"
    }
   ],
   "source": [
    "type(n2)"
   ]
  },
  {
   "cell_type": "code",
   "execution_count": 8,
   "id": "8fc19e7c-7bc5-47cd-a85e-7f56f1b3fa35",
   "metadata": {},
   "outputs": [
    {
     "data": {
      "text/plain": [
       "array([[ 1,  2,  3,  4,  5],\n",
       "       [ 6,  7,  8,  9, 10],\n",
       "       [10, 11, 12, 13, 14]])"
      ]
     },
     "execution_count": 8,
     "metadata": {},
     "output_type": "execute_result"
    }
   ],
   "source": [
    "## 3d array\n",
    "n3 = np.array([[1,2,3,4,5]\n",
    "              ,[6,7,8,9,10],[10,11,12,13,14]])\n",
    "n3"
   ]
  },
  {
   "cell_type": "code",
   "execution_count": 9,
   "id": "7fb38e30-7a96-4cc1-8d8e-3a9b5d00cd5a",
   "metadata": {},
   "outputs": [],
   "source": [
    "### initializing numpy with different ways "
   ]
  },
  {
   "cell_type": "code",
   "execution_count": 10,
   "id": "ad5cb67d-7282-4c2c-8fec-3940fe408441",
   "metadata": {},
   "outputs": [
    {
     "data": {
      "text/plain": [
       "array([[0.],\n",
       "       [0.]])"
      ]
     },
     "execution_count": 10,
     "metadata": {},
     "output_type": "execute_result"
    }
   ],
   "source": [
    "#.zeros() is a method where you can initizalize arrays with zeros having just passing in the parameters in it (rows , column)\n",
    "\n",
    "z1 = np.zeros((2 ,1))\n",
    "z1"
   ]
  },
  {
   "cell_type": "code",
   "execution_count": 11,
   "id": "572e80e6-991d-404a-9525-633ea90eb0de",
   "metadata": {},
   "outputs": [
    {
     "data": {
      "text/plain": [
       "array([[0., 0., 0., 0., 0.],\n",
       "       [0., 0., 0., 0., 0.],\n",
       "       [0., 0., 0., 0., 0.],\n",
       "       [0., 0., 0., 0., 0.],\n",
       "       [0., 0., 0., 0., 0.]])"
      ]
     },
     "execution_count": 11,
     "metadata": {},
     "output_type": "execute_result"
    }
   ],
   "source": [
    "z2 = np.zeros((5 ,5))\n",
    "z2"
   ]
  },
  {
   "cell_type": "code",
   "execution_count": 12,
   "id": "006c93f5-a396-407a-a6b9-0d8ac74c8589",
   "metadata": {},
   "outputs": [],
   "source": [
    "#.full() is method where you can initialize array with same number passing in the dimnesions in () and with comma pass hte value that must be smae init"
   ]
  },
  {
   "cell_type": "code",
   "execution_count": 13,
   "id": "cf2611cf-c38c-4dee-8880-0872b120139b",
   "metadata": {},
   "outputs": [
    {
     "data": {
      "text/plain": [
       "array([[10, 10, 10],\n",
       "       [10, 10, 10]])"
      ]
     },
     "execution_count": 13,
     "metadata": {},
     "output_type": "execute_result"
    }
   ],
   "source": [
    "s1 = np.full((2 ,3 ) , 10)\n",
    "s1"
   ]
  },
  {
   "cell_type": "code",
   "execution_count": 14,
   "id": "813f39ce-05ec-4cc8-b3d8-4c51f2bb0f68",
   "metadata": {},
   "outputs": [],
   "source": [
    "#.arange() is a method where you can pass a paticular range in intializing that array will take 3 para (Start,Stop,Step)"
   ]
  },
  {
   "cell_type": "code",
   "execution_count": 15,
   "id": "72d52740-56cf-429e-80ee-e49805ea1a29",
   "metadata": {},
   "outputs": [
    {
     "data": {
      "text/plain": [
       "array([10, 11, 12, 13, 14, 15, 16, 17, 18, 19, 20])"
      ]
     },
     "execution_count": 15,
     "metadata": {},
     "output_type": "execute_result"
    }
   ],
   "source": [
    "r1 = np.arange(10 , 21) # without step (it will by deafualt be 1)\n",
    "r1"
   ]
  },
  {
   "cell_type": "code",
   "execution_count": 16,
   "id": "7b73165d-ca8a-487f-88c9-ff2e881a4380",
   "metadata": {},
   "outputs": [
    {
     "data": {
      "text/plain": [
       "array([ 10,  20,  30,  40,  50,  60,  70,  80,  90, 100])"
      ]
     },
     "execution_count": 16,
     "metadata": {},
     "output_type": "execute_result"
    }
   ],
   "source": [
    "r2 = np.arange(10 , 110, 10) # with step of 10\n",
    "r2"
   ]
  },
  {
   "cell_type": "code",
   "execution_count": 17,
   "id": "d8a9322c-6c45-483a-806a-5842d105a010",
   "metadata": {},
   "outputs": [],
   "source": [
    "import random"
   ]
  },
  {
   "cell_type": "code",
   "execution_count": 18,
   "id": "0a7ec51c-606d-4a89-bd43-476aea343d2f",
   "metadata": {},
   "outputs": [],
   "source": [
    "## now if we want to initailize array with random int numbers we have to import random and then genrate random intregers init by this\n",
    "## np.random.randint() it will take 3 para (start , end , number of values)"
   ]
  },
  {
   "cell_type": "code",
   "execution_count": 19,
   "id": "cea1637e-49de-4719-8e1e-35952ebecca2",
   "metadata": {},
   "outputs": [
    {
     "data": {
      "text/plain": [
       "array([93, 24, 94, 88, 88, 47, 61, 78, 15, 34])"
      ]
     },
     "execution_count": 19,
     "metadata": {},
     "output_type": "execute_result"
    }
   ],
   "source": [
    "r1 = np.random.randint(10,100 ,10)\n",
    "r1"
   ]
  },
  {
   "cell_type": "code",
   "execution_count": 20,
   "id": "9d9d6930-f55b-4d39-940b-e0b87d604f00",
   "metadata": {},
   "outputs": [],
   "source": [
    "## checking shape of np array means checking there dimenisonal with the help of \n",
    "## .shape() method it is call with the list of elemwnt tore init"
   ]
  },
  {
   "cell_type": "code",
   "execution_count": 21,
   "id": "c6184f0f-6c07-4ba0-9f36-124cf6c765b8",
   "metadata": {},
   "outputs": [
    {
     "data": {
      "text/plain": [
       "(5,)"
      ]
     },
     "execution_count": 21,
     "metadata": {},
     "output_type": "execute_result"
    }
   ],
   "source": [
    "n1 = np.array([1 ,2,3,4,5])\n",
    "n1.shape"
   ]
  },
  {
   "cell_type": "code",
   "execution_count": 22,
   "id": "ac70fddb-b145-45aa-9ad4-210c82b266a5",
   "metadata": {},
   "outputs": [
    {
     "data": {
      "text/plain": [
       "(2, 5)"
      ]
     },
     "execution_count": 22,
     "metadata": {},
     "output_type": "execute_result"
    }
   ],
   "source": [
    "n2 = np.array([[1,2,3,4,5]\n",
    "              ,[6,7,8,9,10]])\n",
    "n2.shape"
   ]
  },
  {
   "cell_type": "code",
   "execution_count": 23,
   "id": "f0ab5e16-0922-4d88-9976-58816e73d541",
   "metadata": {},
   "outputs": [
    {
     "data": {
      "text/plain": [
       "(2, 5)"
      ]
     },
     "execution_count": 23,
     "metadata": {},
     "output_type": "execute_result"
    }
   ],
   "source": [
    "## 1 way of checking \n",
    "## in this you are directly calling it with the alias and pass the var where arrays are stored\n",
    "np.shape(n2)"
   ]
  },
  {
   "cell_type": "code",
   "execution_count": 24,
   "id": "8be746a0-2ec5-44f8-9d6c-b52f90aee2e9",
   "metadata": {},
   "outputs": [
    {
     "data": {
      "text/plain": [
       "(2, 5)"
      ]
     },
     "execution_count": 24,
     "metadata": {},
     "output_type": "execute_result"
    }
   ],
   "source": [
    "## 2 way of checking it\n",
    "## directly call it with the var but you dont have to pass any thing\n",
    "n2.shape"
   ]
  },
  {
   "cell_type": "code",
   "execution_count": 25,
   "id": "71482a16-f9aa-49f4-b381-6064a09784ca",
   "metadata": {},
   "outputs": [],
   "source": [
    "## we can chnage the shape of that with the same method just call with var method assign it to new shape "
   ]
  },
  {
   "cell_type": "code",
   "execution_count": 26,
   "id": "b63845e1-6646-4edc-b476-e1f1036daaec",
   "metadata": {},
   "outputs": [],
   "source": [
    "## the shape of n2 is (2,5) changing it to (5,2)\n",
    "n2.shape = (5,2)"
   ]
  },
  {
   "cell_type": "code",
   "execution_count": 27,
   "id": "007f76b6-d1d9-4e09-ad88-b203028c957a",
   "metadata": {},
   "outputs": [
    {
     "data": {
      "text/plain": [
       "array([[ 1,  2],\n",
       "       [ 3,  4],\n",
       "       [ 5,  6],\n",
       "       [ 7,  8],\n",
       "       [ 9, 10]])"
      ]
     },
     "execution_count": 27,
     "metadata": {},
     "output_type": "execute_result"
    }
   ],
   "source": [
    "n2"
   ]
  },
  {
   "cell_type": "code",
   "execution_count": 28,
   "id": "aaa7103b-a64f-45b9-b3d2-b8b7864f66c8",
   "metadata": {},
   "outputs": [],
   "source": [
    "# a prime exmaple of changing the shape "
   ]
  },
  {
   "cell_type": "code",
   "execution_count": 29,
   "id": "5b14e794-6e23-457c-a7cd-775e69c8bcf6",
   "metadata": {},
   "outputs": [
    {
     "data": {
      "text/plain": [
       "array([[2, 3, 4, 5],\n",
       "       [6, 7, 8, 9]])"
      ]
     },
     "execution_count": 29,
     "metadata": {},
     "output_type": "execute_result"
    }
   ],
   "source": [
    "n7 = np.array([[2 , 3 , 4 ,5],[6, 7, 8, 9]])\n",
    "n7"
   ]
  },
  {
   "cell_type": "code",
   "execution_count": 30,
   "id": "ba062bc0-a41a-4c39-a1b2-97a005e17886",
   "metadata": {},
   "outputs": [
    {
     "data": {
      "text/plain": [
       "(2, 4)"
      ]
     },
     "execution_count": 30,
     "metadata": {},
     "output_type": "execute_result"
    }
   ],
   "source": [
    "n7.shape"
   ]
  },
  {
   "cell_type": "code",
   "execution_count": 31,
   "id": "a9fcc47f-ed10-41e5-b61c-4d3c2631c03a",
   "metadata": {},
   "outputs": [],
   "source": [
    "n7.shape = (4,2)"
   ]
  },
  {
   "cell_type": "code",
   "execution_count": 32,
   "id": "ce8a3179-b4ac-467a-bc68-a2bfe7497943",
   "metadata": {},
   "outputs": [
    {
     "data": {
      "text/plain": [
       "array([[2, 3],\n",
       "       [4, 5],\n",
       "       [6, 7],\n",
       "       [8, 9]])"
      ]
     },
     "execution_count": 32,
     "metadata": {},
     "output_type": "execute_result"
    }
   ],
   "source": [
    "n7"
   ]
  },
  {
   "cell_type": "code",
   "execution_count": 33,
   "id": "39579a0e-590b-4965-a77e-f835e60c5e6f",
   "metadata": {},
   "outputs": [
    {
     "data": {
      "text/plain": [
       "2"
      ]
     },
     "execution_count": 33,
     "metadata": {},
     "output_type": "execute_result"
    }
   ],
   "source": [
    "### checking dimession of array\n",
    "n7.ndim"
   ]
  },
  {
   "cell_type": "code",
   "execution_count": 34,
   "id": "f6cdae70-58b1-4fdd-aeb3-1068c97787f1",
   "metadata": {},
   "outputs": [
    {
     "data": {
      "text/plain": [
       "2"
      ]
     },
     "execution_count": 34,
     "metadata": {},
     "output_type": "execute_result"
    }
   ],
   "source": [
    "np.ndim(n7)"
   ]
  },
  {
   "cell_type": "code",
   "execution_count": 35,
   "id": "02c5b308-533f-4eb5-9d6b-b7b59c03e229",
   "metadata": {},
   "outputs": [
    {
     "name": "stdout",
     "output_type": "stream",
     "text": [
      "[[[[[1 2 3 4]]]]]\n",
      "number of dimensions : 5\n"
     ]
    }
   ],
   "source": [
    "## we can create n dimension with the help of ndim , set its value and pass in array with a list you'll obesrve the dimension will be n \n",
    "arr = np.array([1, 2, 3, 4], ndmin=5)\n",
    "\n",
    "print(arr)\n",
    "print('number of dimensions :', arr.ndim)"
   ]
  },
  {
   "cell_type": "code",
   "execution_count": 36,
   "id": "1864fbbb-8109-4bff-b50e-2a5849702510",
   "metadata": {},
   "outputs": [
    {
     "name": "stdout",
     "output_type": "stream",
     "text": [
      "[1 2 3 4 5 6]\n"
     ]
    }
   ],
   "source": [
    "arr1 = np.array([1, 2, 3])\n",
    "\n",
    "arr2 = np.array([4, 5, 6])\n",
    "\n",
    "arr = np.concatenate((arr1, arr2))\n",
    "\n",
    "print(arr)"
   ]
  },
  {
   "cell_type": "code",
   "execution_count": 37,
   "id": "340109fe-a195-49c2-83c0-657807c24533",
   "metadata": {},
   "outputs": [
    {
     "name": "stdout",
     "output_type": "stream",
     "text": [
      "[[ 1  2  5  6  9 10]\n",
      " [ 3  4  7  8 11 12]]\n"
     ]
    }
   ],
   "source": [
    "arr1 = np.array([[1, 2], [3, 4]])\n",
    "\n",
    "arr2 = np.array([[5, 6], [7, 8]])\n",
    "\n",
    "arr3 = np.array([[9, 10], [11, 12]])\n",
    "\n",
    "arr = np.concatenate((arr1, arr2 ,arr3), axis=1)\n",
    "\n",
    "print(arr)"
   ]
  },
  {
   "cell_type": "code",
   "execution_count": 40,
   "id": "68213d68-d743-4219-833c-14c3d583b0ed",
   "metadata": {},
   "outputs": [
    {
     "name": "stdout",
     "output_type": "stream",
     "text": [
      "[[1 2]\n",
      " [3 4]\n",
      " [5 6]\n",
      " [7 8]]\n"
     ]
    }
   ],
   "source": [
    "arr1 = np.array([[1, 2], [3, 4]])\n",
    "\n",
    "arr2 = np.array([[5, 6], [7, 8]])\n",
    "\n",
    "arr = np.concatenate((arr1, arr2), axis=0)\n",
    "\n",
    "print(arr)"
   ]
  },
  {
   "cell_type": "code",
   "execution_count": 51,
   "id": "aaa2e9b2-a4f7-4200-b790-721aaae65d98",
   "metadata": {},
   "outputs": [
    {
     "name": "stdout",
     "output_type": "stream",
     "text": [
      "[[1 2 3]\n",
      " [4 5 6]]\n"
     ]
    },
    {
     "data": {
      "text/plain": [
       "2"
      ]
     },
     "execution_count": 51,
     "metadata": {},
     "output_type": "execute_result"
    }
   ],
   "source": [
    "## stacking is same as the concatenating\n",
    "#.vstack() is method where you can vertically (column wise) stack arrays \n",
    "n1 = np.array([1,2,3])\n",
    "n2 = np.array([4,5,6])\n",
    "n = np.vstack((n1,n2))\n",
    "print(n)\n",
    "n.ndim"
   ]
  },
  {
   "cell_type": "code",
   "execution_count": 49,
   "id": "27c5c651-b70c-407c-8a14-c779b3215655",
   "metadata": {},
   "outputs": [
    {
     "name": "stdout",
     "output_type": "stream",
     "text": [
      "[1 2 3 4 5 6]\n"
     ]
    },
    {
     "data": {
      "text/plain": [
       "1"
      ]
     },
     "execution_count": 49,
     "metadata": {},
     "output_type": "execute_result"
    }
   ],
   "source": [
    "#.hstack() is method where you can hotizontally (row wise) stack arrays \n",
    "n1 = np.array([1,2,3])\n",
    "n2 = np.array([4,5,6])\n",
    "n = np.hstack((n1,n2))\n",
    "print(n)\n",
    "n.ndim"
   ]
  },
  {
   "cell_type": "code",
   "execution_count": 50,
   "id": "872dc5e2-bd62-47bb-8ba2-4bd191469f0d",
   "metadata": {},
   "outputs": [
    {
     "name": "stdout",
     "output_type": "stream",
     "text": [
      "[[[1 4]\n",
      "  [2 5]\n",
      "  [3 6]]]\n"
     ]
    },
    {
     "data": {
      "text/plain": [
       "3"
      ]
     },
     "execution_count": 50,
     "metadata": {},
     "output_type": "execute_result"
    }
   ],
   "source": [
    "#.dstack() is method where you can height (depth wise) stack arrays \n",
    "n1 = np.array([1,2,3])\n",
    "n2 = np.array([4,5,6])\n",
    "n = np.dstack((n1,n2))\n",
    "print(n)\n",
    "n.ndim"
   ]
  },
  {
   "cell_type": "code",
   "execution_count": 57,
   "id": "af21b575-3f4b-4bbf-9393-0415b5850a37",
   "metadata": {},
   "outputs": [
    {
     "name": "stdout",
     "output_type": "stream",
     "text": [
      "[[1 4]\n",
      " [2 5]\n",
      " [3 6]]\n"
     ]
    }
   ],
   "source": [
    "a = np.column_stack((n1,n2))\n",
    "a.ndim\n",
    "print(a)"
   ]
  },
  {
   "cell_type": "code",
   "execution_count": 58,
   "id": "8aac8c7f-7168-431c-908a-2398fcc0fc12",
   "metadata": {},
   "outputs": [],
   "source": [
    "### Numpy  intersection and difference method"
   ]
  },
  {
   "cell_type": "code",
   "execution_count": 60,
   "id": "9970c8a9-e400-4012-9927-010e22a5a27b",
   "metadata": {},
   "outputs": [],
   "source": [
    "## there are two methods which are to find common and unique element in 2 numy arrays\n",
    "## .intersect1d() is uesd to find common value in both the numpy arrays \n",
    "## .setdiff1d() is used to find unique element in both which are not part of each other"
   ]
  },
  {
   "cell_type": "code",
   "execution_count": 63,
   "id": "0e1db2c3-6186-48c9-b67c-deba1f769587",
   "metadata": {},
   "outputs": [],
   "source": [
    "n1 = np.arange(10,100,10)\n",
    "n2 = np.arange(60,150,10)"
   ]
  },
  {
   "cell_type": "code",
   "execution_count": 64,
   "id": "5215bf9d-1da2-4893-853d-728bb23fe769",
   "metadata": {},
   "outputs": [
    {
     "name": "stdout",
     "output_type": "stream",
     "text": [
      "[60 70 80 90]\n"
     ]
    }
   ],
   "source": [
    "arr1 = np.intersect1d(n1,n2)\n",
    "print(arr1)"
   ]
  },
  {
   "cell_type": "code",
   "execution_count": 65,
   "id": "4f951eb3-23c4-4318-abfe-ba29b82597bc",
   "metadata": {},
   "outputs": [
    {
     "name": "stdout",
     "output_type": "stream",
     "text": [
      "[10 20 30 40 50]\n"
     ]
    }
   ],
   "source": [
    "arr2 = np.setdiff1d(n1,n2)\n",
    "print(arr2)"
   ]
  },
  {
   "cell_type": "code",
   "execution_count": 66,
   "id": "e95a5341-946f-426d-9ff8-5050d8ced349",
   "metadata": {},
   "outputs": [
    {
     "name": "stdout",
     "output_type": "stream",
     "text": [
      "[100 110 120 130 140]\n"
     ]
    }
   ],
   "source": [
    "arr3 = np.setdiff1d(n2,n1)\n",
    "print(arr3)"
   ]
  },
  {
   "cell_type": "code",
   "execution_count": 67,
   "id": "5dcdbcba-2f82-4563-b195-478579081f0a",
   "metadata": {},
   "outputs": [],
   "source": [
    "## addition of numpy arrays"
   ]
  },
  {
   "cell_type": "code",
   "execution_count": 71,
   "id": "9bafc7f4-1a11-47b9-aaea-dbb88ccdedcd",
   "metadata": {},
   "outputs": [
    {
     "name": "stdout",
     "output_type": "stream",
     "text": [
      "[10 11 12 13 14 15 16 17 18 19]\n",
      "[20 21 22 23 24 25 26 27 28 29]\n"
     ]
    }
   ],
   "source": [
    "n1 = np.arange(10,20)\n",
    "n2 = np.arange(20,30)\n",
    "print(n1)\n",
    "print(n2)"
   ]
  },
  {
   "cell_type": "code",
   "execution_count": 73,
   "id": "ab3db6aa-fb10-4c52-bf3d-c155dca284e5",
   "metadata": {},
   "outputs": [],
   "source": [
    "## .sum([]) is used to sum up the entire 2 list of both arrays"
   ]
  },
  {
   "cell_type": "code",
   "execution_count": 70,
   "id": "541e86a5-fb13-4a67-ada0-8ec9a4e89dc7",
   "metadata": {},
   "outputs": [
    {
     "name": "stdout",
     "output_type": "stream",
     "text": [
      "390\n"
     ]
    }
   ],
   "source": [
    "Sum = np.sum([n1,n2])\n",
    "print(Sum)"
   ]
  },
  {
   "cell_type": "code",
   "execution_count": 80,
   "id": "8abed520-ee39-435e-b7ba-b5fbce070a82",
   "metadata": {},
   "outputs": [],
   "source": [
    "## if i want the sum for cloumnn we'll pass additinal parameter called axis \n",
    "## if i want to be sum along column so axis value will be zero"
   ]
  },
  {
   "cell_type": "code",
   "execution_count": 76,
   "id": "96d70173-a8d8-48c9-86ca-d97a223241b2",
   "metadata": {},
   "outputs": [
    {
     "name": "stdout",
     "output_type": "stream",
     "text": [
      "[30 32 34 36 38 40 42 44 46 48]\n"
     ]
    }
   ],
   "source": [
    "Sum_1 = np.sum([n1,n2] , axis = 0)\n",
    "print(Sum_1)"
   ]
  },
  {
   "cell_type": "code",
   "execution_count": 78,
   "id": "65564da5-b97c-49a1-ba0d-e0ebee04c11c",
   "metadata": {},
   "outputs": [],
   "source": [
    "## if i want to be sum along row so axis value will be one"
   ]
  },
  {
   "cell_type": "code",
   "execution_count": 79,
   "id": "cce6ccb5-bc9b-4d3b-a712-da8061e24f94",
   "metadata": {},
   "outputs": [
    {
     "name": "stdout",
     "output_type": "stream",
     "text": [
      "[145 245]\n"
     ]
    }
   ],
   "source": [
    "Sum_2 = np.sum([n1,n2] , axis = 1)\n",
    "print(Sum_2)"
   ]
  },
  {
   "cell_type": "code",
   "execution_count": 81,
   "id": "b5013c4a-6315-4c8c-a071-2e077b4e1686",
   "metadata": {},
   "outputs": [],
   "source": [
    "## scalar opreations on numpy arrays"
   ]
  },
  {
   "cell_type": "code",
   "execution_count": 87,
   "id": "3b02b69d-ea9c-4315-8abc-e963bbc98abf",
   "metadata": {},
   "outputs": [
    {
     "name": "stdout",
     "output_type": "stream",
     "text": [
      "[ 0  2  4  6  8 10]\n"
     ]
    }
   ],
   "source": [
    "n1 = np.arange(0,11,2)\n",
    "print(n1)"
   ]
  },
  {
   "cell_type": "code",
   "execution_count": 88,
   "id": "270c6700-1743-460c-9334-c737715fed75",
   "metadata": {},
   "outputs": [
    {
     "name": "stdout",
     "output_type": "stream",
     "text": [
      "[ 1  3  5  7  9 11]\n"
     ]
    }
   ],
   "source": [
    "## basic adiition\n",
    "n1 = n1 + 1\n",
    "print(n1)"
   ]
  },
  {
   "cell_type": "code",
   "execution_count": 89,
   "id": "056ee44b-4c6b-4dee-b142-024a76728c78",
   "metadata": {},
   "outputs": [
    {
     "name": "stdout",
     "output_type": "stream",
     "text": [
      "[ 0  2  4  6  8 10]\n"
     ]
    }
   ],
   "source": [
    "## basic subtractrion\n",
    "n1 = n1 - 1\n",
    "print(n1)"
   ]
  },
  {
   "cell_type": "code",
   "execution_count": 91,
   "id": "40b9de93-2c23-4778-b030-7b3766e4dd37",
   "metadata": {},
   "outputs": [
    {
     "name": "stdout",
     "output_type": "stream",
     "text": [
      "[ 0  4  8 12 16 20]\n"
     ]
    }
   ],
   "source": [
    "## basic multiplication\n",
    "n1 = n1 * 2\n",
    "print(n1)"
   ]
  },
  {
   "cell_type": "code",
   "execution_count": 92,
   "id": "447ee3a6-b98b-4a5d-8352-d742921a6ee4",
   "metadata": {},
   "outputs": [
    {
     "name": "stdout",
     "output_type": "stream",
     "text": [
      "[ 0.  2.  4.  6.  8. 10.]\n"
     ]
    }
   ],
   "source": [
    "## basic division\n",
    "n1 = n1 / 2\n",
    "print(n1)"
   ]
  },
  {
   "cell_type": "code",
   "execution_count": 94,
   "id": "fe62eee7-fd3f-47cf-8932-1e5b46bf54c0",
   "metadata": {},
   "outputs": [
    {
     "name": "stdout",
     "output_type": "stream",
     "text": [
      "5.0\n"
     ]
    }
   ],
   "source": [
    "## for mean\n",
    "m = np.mean(n1)\n",
    "print(m)"
   ]
  },
  {
   "cell_type": "code",
   "execution_count": 95,
   "id": "6aa2b042-e459-4092-82cc-e803121db0b8",
   "metadata": {},
   "outputs": [
    {
     "name": "stdout",
     "output_type": "stream",
     "text": [
      "3.415650255319866\n"
     ]
    }
   ],
   "source": [
    "## for standard deviation\n",
    "s = np.std(n1)\n",
    "print(s)"
   ]
  },
  {
   "cell_type": "code",
   "execution_count": 96,
   "id": "945238cb-da3f-4421-b0ce-7244d585efdf",
   "metadata": {},
   "outputs": [
    {
     "name": "stdout",
     "output_type": "stream",
     "text": [
      "5.0\n"
     ]
    }
   ],
   "source": [
    "## for median\n",
    "M = np.median(n1)\n",
    "print(M)"
   ]
  },
  {
   "cell_type": "code",
   "execution_count": 97,
   "id": "6ca642ff-0a0c-4b5b-9758-26b54805ebb5",
   "metadata": {},
   "outputs": [],
   "source": [
    "## numpy matrix"
   ]
  },
  {
   "cell_type": "code",
   "execution_count": 98,
   "id": "6b8b6be0-1434-4702-a882-d83fa268e6f4",
   "metadata": {
    "scrolled": true
   },
   "outputs": [
    {
     "name": "stdout",
     "output_type": "stream",
     "text": [
      "[[1 2 3]\n",
      " [4 5 6]\n",
      " [7 8 9]]\n"
     ]
    }
   ],
   "source": [
    "mat = np.array([[1, 2, 3 ],[4, 5, 6],[7, 8 , 9]])\n",
    "print(mat)"
   ]
  },
  {
   "cell_type": "code",
   "execution_count": 102,
   "id": "990d3b49-0dd9-4842-9dc0-c3a385ccb4ef",
   "metadata": {},
   "outputs": [],
   "source": [
    "# accessing rows with the help of indexing"
   ]
  },
  {
   "cell_type": "code",
   "execution_count": 99,
   "id": "a7ade8fe-4072-45d8-8ab6-70dbbe84ad13",
   "metadata": {},
   "outputs": [
    {
     "data": {
      "text/plain": [
       "array([1, 2, 3])"
      ]
     },
     "execution_count": 99,
     "metadata": {},
     "output_type": "execute_result"
    }
   ],
   "source": [
    "mat[0]"
   ]
  },
  {
   "cell_type": "code",
   "execution_count": 100,
   "id": "ae3884c0-65e2-4352-a309-994ace42a7c1",
   "metadata": {},
   "outputs": [
    {
     "data": {
      "text/plain": [
       "array([4, 5, 6])"
      ]
     },
     "execution_count": 100,
     "metadata": {},
     "output_type": "execute_result"
    }
   ],
   "source": [
    "mat[1]"
   ]
  },
  {
   "cell_type": "code",
   "execution_count": 104,
   "id": "b1ece63c-6106-428f-85e5-602e84d4ac8f",
   "metadata": {},
   "outputs": [
    {
     "data": {
      "text/plain": [
       "7"
      ]
     },
     "execution_count": 104,
     "metadata": {},
     "output_type": "execute_result"
    }
   ],
   "source": [
    "# acessing element\n",
    "mat[2][0]"
   ]
  },
  {
   "cell_type": "code",
   "execution_count": 111,
   "id": "aee5da2a-7728-4434-9b34-01d400aa9e89",
   "metadata": {},
   "outputs": [],
   "source": [
    "## acessing column using indexing"
   ]
  },
  {
   "cell_type": "code",
   "execution_count": 107,
   "id": "b221f5ed-82ee-4184-b77a-ac79e016687f",
   "metadata": {},
   "outputs": [
    {
     "data": {
      "text/plain": [
       "array([1, 4, 7])"
      ]
     },
     "execution_count": 107,
     "metadata": {},
     "output_type": "execute_result"
    }
   ],
   "source": [
    "mat[:,0]"
   ]
  },
  {
   "cell_type": "code",
   "execution_count": 108,
   "id": "5a27b45a-08c4-4ee6-9102-62b05c62e8d8",
   "metadata": {},
   "outputs": [
    {
     "data": {
      "text/plain": [
       "array([2, 5, 8])"
      ]
     },
     "execution_count": 108,
     "metadata": {},
     "output_type": "execute_result"
    }
   ],
   "source": [
    "mat[:,1]"
   ]
  },
  {
   "cell_type": "code",
   "execution_count": 110,
   "id": "bcbf1f15-a007-4864-a19e-235327fb979b",
   "metadata": {
    "scrolled": true
   },
   "outputs": [
    {
     "data": {
      "text/plain": [
       "array([3, 6, 9])"
      ]
     },
     "execution_count": 110,
     "metadata": {},
     "output_type": "execute_result"
    }
   ],
   "source": [
    "mat[:,2]"
   ]
  },
  {
   "cell_type": "code",
   "execution_count": 120,
   "id": "c2de5476-d5c5-4d51-9132-f32d57c3d57a",
   "metadata": {},
   "outputs": [],
   "source": [
    "## .transpose() is use to take tranpose of a matirz"
   ]
  },
  {
   "cell_type": "code",
   "execution_count": 116,
   "id": "51623d84-438a-4f32-9e7f-9265cfca5a27",
   "metadata": {},
   "outputs": [
    {
     "name": "stdout",
     "output_type": "stream",
     "text": [
      "[[1 4 7]\n",
      " [2 5 8]\n",
      " [3 6 9]]\n",
      "[[1 4 7]\n",
      " [2 5 8]\n",
      " [3 6 9]]\n"
     ]
    }
   ],
   "source": [
    "mat_T = mat.transpose() ## 1 way\n",
    "mat_t = np.transpose(mat)  ## 2 way\n",
    "print(mat_T)\n",
    "print(mat_t)"
   ]
  },
  {
   "cell_type": "code",
   "execution_count": 117,
   "id": "bdd15b2f-9dd1-4ab3-b3e9-775b438fa489",
   "metadata": {},
   "outputs": [],
   "source": [
    "### numpy matrix multiplication"
   ]
  },
  {
   "cell_type": "code",
   "execution_count": 119,
   "id": "9e99bc06-9cb8-4e3a-a36b-68799cf7f1ff",
   "metadata": {},
   "outputs": [
    {
     "name": "stdout",
     "output_type": "stream",
     "text": [
      "[[1 2 3]\n",
      " [4 5 6]\n",
      " [7 8 9]]\n"
     ]
    }
   ],
   "source": [
    "n_1 = np.array([[1 ,2 ,3 ],[4, 5, 6],[7 , 8 ,9]])\n",
    "print(n_1)"
   ]
  },
  {
   "cell_type": "code",
   "execution_count": 118,
   "id": "2156cc7a-49aa-419e-8151-8e78ffde8b06",
   "metadata": {},
   "outputs": [
    {
     "name": "stdout",
     "output_type": "stream",
     "text": [
      "[[10 11 12]\n",
      " [13 14 15]\n",
      " [16 17 18]]\n"
     ]
    }
   ],
   "source": [
    "n_2 = np.array([[10 ,11 ,12 ],[13, 14, 15],[16 , 17 ,18]])\n",
    "print(n_2)"
   ]
  },
  {
   "cell_type": "code",
   "execution_count": 121,
   "id": "15522329-6524-4526-9156-ee291cbf2cf2",
   "metadata": {},
   "outputs": [],
   "source": [
    "#.dot() is used to  multiply to matrix"
   ]
  },
  {
   "cell_type": "code",
   "execution_count": 128,
   "id": "f12e94ef-ce24-4e3c-a7c1-2b651068b099",
   "metadata": {},
   "outputs": [
    {
     "name": "stdout",
     "output_type": "stream",
     "text": [
      "[[ 84  90  96]\n",
      " [201 216 231]\n",
      " [318 342 366]]\n"
     ]
    }
   ],
   "source": [
    "mult1 = np.dot(n_1,n_2) # 1 way\n",
    "print(mult1)"
   ]
  },
  {
   "cell_type": "code",
   "execution_count": 131,
   "id": "3cec7c25-5e46-4875-859c-eb61424e8a06",
   "metadata": {},
   "outputs": [
    {
     "name": "stdout",
     "output_type": "stream",
     "text": [
      "[[ 84  90  96]\n",
      " [201 216 231]\n",
      " [318 342 366]]\n"
     ]
    }
   ],
   "source": [
    "m_t = n_1.dot(n_2)   # 2 way\n",
    "print(m_t)"
   ]
  },
  {
   "cell_type": "code",
   "execution_count": 129,
   "id": "e3b401e5-b92d-466d-94b3-53699493c34d",
   "metadata": {},
   "outputs": [
    {
     "name": "stdout",
     "output_type": "stream",
     "text": [
      "[[138 171 204]\n",
      " [174 216 258]\n",
      " [210 261 312]]\n"
     ]
    }
   ],
   "source": [
    "mult2 = np.dot(n_2,n_1) # 1 way\n",
    "print(mult2)"
   ]
  },
  {
   "cell_type": "code",
   "execution_count": 130,
   "id": "1da0de1a-bf92-4063-9d7a-47b20b913ea3",
   "metadata": {},
   "outputs": [
    {
     "name": "stdout",
     "output_type": "stream",
     "text": [
      "[[138 171 204]\n",
      " [174 216 258]\n",
      " [210 261 312]]\n"
     ]
    }
   ],
   "source": [
    "m_tt = n_2.dot(n_1)   # 2 way\n",
    "print(m_tt)"
   ]
  },
  {
   "cell_type": "code",
   "execution_count": 138,
   "id": "27c749fa-0726-4a10-8528-549912414daf",
   "metadata": {},
   "outputs": [],
   "source": [
    "### numpy save and load\n",
    "##  .save() is used to save the file it takes two parameter 1 name of file and 2 what to save\n",
    "##  .load() is used to load that file u haave to use .npy extension with it "
   ]
  },
  {
   "cell_type": "code",
   "execution_count": 134,
   "id": "f8808138-c0b5-4ad3-9157-4d536522916e",
   "metadata": {},
   "outputs": [
    {
     "name": "stdout",
     "output_type": "stream",
     "text": [
      "[10 30 50 70 90]\n"
     ]
    }
   ],
   "source": [
    "num_1 = np.arange(10,100,20)\n",
    "print(num_1)"
   ]
  },
  {
   "cell_type": "code",
   "execution_count": 136,
   "id": "79c7e007-03e8-40ad-a792-743bd60253ce",
   "metadata": {},
   "outputs": [],
   "source": [
    "np.save(\"Array 1\",num_1)"
   ]
  },
  {
   "cell_type": "code",
   "execution_count": 137,
   "id": "791d5aad-ec85-4f5c-9fbd-320913004ad2",
   "metadata": {},
   "outputs": [
    {
     "data": {
      "text/plain": [
       "array([10, 30, 50, 70, 90])"
      ]
     },
     "execution_count": 137,
     "metadata": {},
     "output_type": "execute_result"
    }
   ],
   "source": [
    "np.load(\"Array 1.npy\")"
   ]
  }
 ],
 "metadata": {
  "kernelspec": {
   "display_name": "Python 3 (ipykernel)",
   "language": "python",
   "name": "python3"
  },
  "language_info": {
   "codemirror_mode": {
    "name": "ipython",
    "version": 3
   },
   "file_extension": ".py",
   "mimetype": "text/x-python",
   "name": "python",
   "nbconvert_exporter": "python",
   "pygments_lexer": "ipython3",
   "version": "3.11.7"
  }
 },
 "nbformat": 4,
 "nbformat_minor": 5
}
